{
 "cells": [
  {
   "cell_type": "code",
   "execution_count": 5,
   "metadata": {},
   "outputs": [],
   "source": [
    "import numpy as np\n",
    "import matplotlib.pyplot as plt\n",
    "from keras.models import Sequential\n",
    "from keras.layers import Dense, Dropout, Activation, Flatten\n",
    "from keras.layers import Conv2D, MaxPooling2D\n",
    "# from keras.utils import np_utils\n",
    "from keras.utils import to_categorical\n",
    "from keras.datasets import mnist"
   ]
  },
  {
   "cell_type": "code",
   "execution_count": 8,
   "metadata": {},
   "outputs": [
    {
     "name": "stdout",
     "output_type": "stream",
     "text": [
      "(50000, 28, 28)\n"
     ]
    }
   ],
   "source": [
    "# Load dữ liệu MNIST\n",
    "(X_train, y_train), (X_test, y_test) = mnist.load_data()\n",
    "X_val, y_val = X_train[50000:60000,:], y_train[50000:60000]\n",
    "X_train, y_train = X_train[:50000,:], y_train[:50000]\n",
    "print(X_train.shape)"
   ]
  },
  {
   "cell_type": "code",
   "execution_count": 9,
   "metadata": {},
   "outputs": [],
   "source": [
    "# Reshape lại dữ liệu cho đúng kích thước mà keras yêu cầu\n",
    "X_train = X_train.reshape(X_train.shape[0], 28, 28, 1)\n",
    "X_val = X_val.reshape(X_val.shape[0], 28, 28, 1)\n",
    "X_test = X_test.reshape(X_test.shape[0], 28, 28, 1)"
   ]
  },
  {
   "cell_type": "code",
   "execution_count": 10,
   "metadata": {},
   "outputs": [
    {
     "name": "stdout",
     "output_type": "stream",
     "text": [
      "Dữ liệu y ban đầu  5\n",
      "Dữ liệu y sau one-hot encoding  [0. 0. 0. 0. 0. 1. 0. 0. 0. 0.]\n"
     ]
    }
   ],
   "source": [
    "# One hot encoding label (Y)\n",
    "Y_train = to_categorical(y_train, 10)\n",
    "Y_val = to_categorical(y_val, 10)\n",
    "Y_test = to_categorical(y_test, 10)\n",
    "print('Dữ liệu y ban đầu ', y_train[0])\n",
    "print('Dữ liệu y sau one-hot encoding ',Y_train[0])"
   ]
  },
  {
   "cell_type": "code",
   "execution_count": null,
   "metadata": {},
   "outputs": [],
   "source": [
    "\"\"\" Bước này định nghĩa model:\n",
    "\n",
    "1. Model = Sequential() để nói cho keras là ta sẽ xếp các layer lên nhau để tạo model. Ví dụ input -> CONV -> POOL -> CONV -> POOL -> FLATTEN -> FC -> OUTPUT\n",
    "2. Ở layer đầu tiên cần chỉ rõ input_shape của ảnh, input_shape = (W, H, D), ta dùng ảnh xám kích thước (28,28) nên input_shape = (28, 28, 1)\n",
    "3. Khi thêm Convolutional Layer ta cần chỉ rõ các tham số: K (số lượng layer), kernel size (W, H), hàm activation sử dụng. \n",
    "cấu trúc: model.add(Conv2D(K, (W, H), activation='tên_hàm_activation'))\n",
    "4. Khi thêm Maxpooling Layer cần chỉ rõ size của kernel, model.add(MaxPooling2D(pool_size=(W, H)))\n",
    "5. Bước Flatten chuyển từ tensor sang vector chỉ cần thêm flatten layer.\n",
    "6. Để thêm Fully Connected Layer (FC) cần chỉ rõ số lượng node trong layer và hàm activation sử dụng trong layer, \n",
    "cấu trúc: model.add(Dense(số_lượng_node activation='tên_hàm activation')) \"\"\""
   ]
  },
  {
   "cell_type": "code",
   "execution_count": 11,
   "metadata": {},
   "outputs": [],
   "source": [
    "# Định nghĩa model\n",
    "model = Sequential()\n",
    " \n",
    "# Thêm Convolutional layer với 32 kernel, kích thước kernel 3*3\n",
    "# dùng hàm sigmoid làm activation và chỉ rõ input_shape cho layer đầu tiên\n",
    "model.add(Conv2D(32, (3, 3), activation='sigmoid', input_shape=(28,28,1)))\n",
    "\n",
    "# Thêm Convolutional layer\n",
    "model.add(Conv2D(32, (3, 3), activation='sigmoid'))\n",
    "\n",
    "# Thêm Max pooling layer\n",
    "model.add(MaxPooling2D(pool_size=(2,2)))\n",
    "\n",
    "# Flatten layer chuyển từ tensor sang vector\n",
    "model.add(Flatten())\n",
    "\n",
    "# Thêm Fully Connected layer với 128 nodes và dùng hàm sigmoid\n",
    "model.add(Dense(128, activation='sigmoid'))\n",
    "\n",
    "# Output layer với 10 node và dùng softmax function để chuyển sang xác xuất.\n",
    "model.add(Dense(10, activation='softmax'))"
   ]
  },
  {
   "cell_type": "code",
   "execution_count": 12,
   "metadata": {},
   "outputs": [],
   "source": [
    "# Compile model, chỉ rõ hàm loss_function nào được sử dụng, phương thức \n",
    "# dùng để tối ưu hàm loss function.\n",
    "model.compile(loss='categorical_crossentropy', optimizer='adam', metrics=['accuracy'])"
   ]
  },
  {
   "cell_type": "code",
   "execution_count": 13,
   "metadata": {},
   "outputs": [
    {
     "name": "stdout",
     "output_type": "stream",
     "text": [
      "Epoch 1/10\n",
      "1563/1563 [==============================] - 48s 30ms/step - loss: 0.2866 - accuracy: 0.9199 - val_loss: 0.0758 - val_accuracy: 0.9803\n",
      "Epoch 2/10\n",
      "1563/1563 [==============================] - 45s 29ms/step - loss: 0.0585 - accuracy: 0.9830 - val_loss: 0.0453 - val_accuracy: 0.9874\n",
      "Epoch 3/10\n",
      "1563/1563 [==============================] - 46s 29ms/step - loss: 0.0369 - accuracy: 0.9894 - val_loss: 0.0474 - val_accuracy: 0.9865\n",
      "Epoch 4/10\n",
      "1563/1563 [==============================] - 46s 29ms/step - loss: 0.0233 - accuracy: 0.9938 - val_loss: 0.0398 - val_accuracy: 0.9885\n",
      "Epoch 5/10\n",
      "1563/1563 [==============================] - 43s 28ms/step - loss: 0.0157 - accuracy: 0.9955 - val_loss: 0.0395 - val_accuracy: 0.9895\n",
      "Epoch 6/10\n",
      "1563/1563 [==============================] - 42s 27ms/step - loss: 0.0114 - accuracy: 0.9971 - val_loss: 0.0456 - val_accuracy: 0.9874\n",
      "Epoch 7/10\n",
      "1563/1563 [==============================] - 43s 27ms/step - loss: 0.0075 - accuracy: 0.9981 - val_loss: 0.0494 - val_accuracy: 0.9862\n",
      "Epoch 8/10\n",
      "1563/1563 [==============================] - 45s 29ms/step - loss: 0.0055 - accuracy: 0.9988 - val_loss: 0.0421 - val_accuracy: 0.9884\n",
      "Epoch 9/10\n",
      "1563/1563 [==============================] - 44s 28ms/step - loss: 0.0036 - accuracy: 0.9992 - val_loss: 0.0427 - val_accuracy: 0.9888\n",
      "Epoch 10/10\n",
      "1563/1563 [==============================] - 43s 28ms/step - loss: 0.0031 - accuracy: 0.9994 - val_loss: 0.0404 - val_accuracy: 0.9901\n"
     ]
    }
   ],
   "source": [
    "# Thực hiện train model với data\n",
    "H = model.fit(X_train, Y_train, validation_data=(X_val, Y_val),\n",
    "          batch_size=32, epochs=10, verbose=1)"
   ]
  },
  {
   "cell_type": "code",
   "execution_count": 16,
   "metadata": {},
   "outputs": [
    {
     "data": {
      "text/plain": [
       "<matplotlib.legend.Legend at 0x1fe2f4a6710>"
      ]
     },
     "execution_count": 16,
     "metadata": {},
     "output_type": "execute_result"
    },
    {
     "data": {
      "image/png": "[encoded data removed]",
      "text/plain": [
       "<Figure size 640x480 with 1 Axes>"
      ]
     },
     "metadata": {},
     "output_type": "display_data"
    }
   ],
   "source": [
    "# Vẽ đồ thị loss, accuracy của traning set và validation set\n",
    "fig = plt.figure()\n",
    "numOfEpoch = 10\n",
    "plt.plot(np.arange(0, numOfEpoch), H.history['loss'], label='training loss')\n",
    "plt.plot(np.arange(0, numOfEpoch), H.history['val_loss'], label='validation loss')\n",
    "plt.plot(np.arange(0, numOfEpoch), H.history['accuracy'], label='accuracy')\n",
    "plt.plot(np.arange(0, numOfEpoch), H.history['val_accuracy'], label='validation accuracy')\n",
    "plt.title('Accuracy and Loss')\n",
    "plt.xlabel('Epoch')\n",
    "plt.ylabel('Loss|Accuracy')\n",
    "plt.legend()"
   ]
  },
  {
   "cell_type": "code",
   "execution_count": 17,
   "metadata": {},
   "outputs": [
    {
     "name": "stdout",
     "output_type": "stream",
     "text": [
      "[0.0310959629714489, 0.9902999997138977]\n"
     ]
    }
   ],
   "source": [
    "# Đánh giá model với dữ liệu test set\n",
    "score = model.evaluate(X_test, Y_test, verbose=0)\n",
    "print(score)"
   ]
  },
  {
   "cell_type": "code",
   "execution_count": 24,
   "metadata": {},
   "outputs": [
    {
     "name": "stdout",
     "output_type": "stream",
     "text": [
      "1/1 [==============================] - 0s 15ms/step\n",
      "Giá trị dự đoán:  7\n"
     ]
    },
    {
     "data": {
      "image/png": "[encoded data removed]",
      "text/plain": [
       "<Figure size 640x480 with 1 Axes>"
      ]
     },
     "metadata": {},
     "output_type": "display_data"
    }
   ],
   "source": [
    "# Dự đoán ảnh\n",
    "plt.imshow(X_test[0].reshape(28,28), cmap='gray')\n",
    "\n",
    "y_predict = model.predict(X_test[0].reshape(1,28,28,1))\n",
    "print('Giá trị dự đoán: ', np.argmax(y_predict))"
   ]
  }
 ],
 "metadata": {
  "kernelspec": {
   "display_name": "Python 3",
   "language": "python",
   "name": "python3"
  },
  "language_info": {
   "codemirror_mode": {
    "name": "ipython",
    "version": 3
   },
   "file_extension": ".py",
   "mimetype": "text/x-python",
   "name": "python",
   "nbconvert_exporter": "python",
   "pygments_lexer": "ipython3",
   "version": "3.11.5"
  }
 },
 "nbformat": 4,
 "nbformat_minor": 2
}
